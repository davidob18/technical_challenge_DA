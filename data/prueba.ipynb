{
 "cells": [
  {
   "cell_type": "code",
   "execution_count": 1,
   "id": "1c68961b-4318-4670-a768-b63904f5986d",
   "metadata": {},
   "outputs": [],
   "source": [
    "import pandas as pd\n",
    "import numpy as np\n",
    "\n",
    "import matplotlib.pyplot as plt"
   ]
  },
  {
   "cell_type": "code",
   "execution_count": 2,
   "id": "b00410d3-78ce-432d-9b0a-e9c78390e7d3",
   "metadata": {
    "tags": []
   },
   "outputs": [],
   "source": [
    "df_data = pd.read_csv('./measurements.csv')"
   ]
  },
  {
   "cell_type": "markdown",
   "id": "d279bb71-586b-45bd-a200-d852ad5470d2",
   "metadata": {},
   "source": [
    "# PRIMERO VAMOS A EXPLORAR LOS DATOS"
   ]
  },
  {
   "cell_type": "code",
   "execution_count": 3,
   "id": "eb5b9899-6ec9-4bb2-86fd-28568126481b",
   "metadata": {},
   "outputs": [
    {
     "data": {
      "text/html": [
       "<div>\n",
       "<style scoped>\n",
       "    .dataframe tbody tr th:only-of-type {\n",
       "        vertical-align: middle;\n",
       "    }\n",
       "\n",
       "    .dataframe tbody tr th {\n",
       "        vertical-align: top;\n",
       "    }\n",
       "\n",
       "    .dataframe thead th {\n",
       "        text-align: right;\n",
       "    }\n",
       "</style>\n",
       "<table border=\"1\" class=\"dataframe\">\n",
       "  <thead>\n",
       "    <tr style=\"text-align: right;\">\n",
       "      <th></th>\n",
       "      <th>distance</th>\n",
       "      <th>consume</th>\n",
       "      <th>speed</th>\n",
       "      <th>temp_inside</th>\n",
       "      <th>temp_outside</th>\n",
       "      <th>specials</th>\n",
       "      <th>gas_type</th>\n",
       "      <th>AC</th>\n",
       "      <th>rain</th>\n",
       "      <th>sun</th>\n",
       "      <th>refill liters</th>\n",
       "      <th>refill gas</th>\n",
       "    </tr>\n",
       "  </thead>\n",
       "  <tbody>\n",
       "    <tr>\n",
       "      <th>0</th>\n",
       "      <td>28</td>\n",
       "      <td>5</td>\n",
       "      <td>26</td>\n",
       "      <td>21,5</td>\n",
       "      <td>12</td>\n",
       "      <td>NaN</td>\n",
       "      <td>E10</td>\n",
       "      <td>0</td>\n",
       "      <td>0</td>\n",
       "      <td>0</td>\n",
       "      <td>45</td>\n",
       "      <td>E10</td>\n",
       "    </tr>\n",
       "    <tr>\n",
       "      <th>1</th>\n",
       "      <td>12</td>\n",
       "      <td>4,2</td>\n",
       "      <td>30</td>\n",
       "      <td>21,5</td>\n",
       "      <td>13</td>\n",
       "      <td>NaN</td>\n",
       "      <td>E10</td>\n",
       "      <td>0</td>\n",
       "      <td>0</td>\n",
       "      <td>0</td>\n",
       "      <td>NaN</td>\n",
       "      <td>NaN</td>\n",
       "    </tr>\n",
       "    <tr>\n",
       "      <th>2</th>\n",
       "      <td>11,2</td>\n",
       "      <td>5,5</td>\n",
       "      <td>38</td>\n",
       "      <td>21,5</td>\n",
       "      <td>15</td>\n",
       "      <td>NaN</td>\n",
       "      <td>E10</td>\n",
       "      <td>0</td>\n",
       "      <td>0</td>\n",
       "      <td>0</td>\n",
       "      <td>NaN</td>\n",
       "      <td>NaN</td>\n",
       "    </tr>\n",
       "    <tr>\n",
       "      <th>3</th>\n",
       "      <td>12,9</td>\n",
       "      <td>3,9</td>\n",
       "      <td>36</td>\n",
       "      <td>21,5</td>\n",
       "      <td>14</td>\n",
       "      <td>NaN</td>\n",
       "      <td>E10</td>\n",
       "      <td>0</td>\n",
       "      <td>0</td>\n",
       "      <td>0</td>\n",
       "      <td>NaN</td>\n",
       "      <td>NaN</td>\n",
       "    </tr>\n",
       "    <tr>\n",
       "      <th>4</th>\n",
       "      <td>18,5</td>\n",
       "      <td>4,5</td>\n",
       "      <td>46</td>\n",
       "      <td>21,5</td>\n",
       "      <td>15</td>\n",
       "      <td>NaN</td>\n",
       "      <td>E10</td>\n",
       "      <td>0</td>\n",
       "      <td>0</td>\n",
       "      <td>0</td>\n",
       "      <td>NaN</td>\n",
       "      <td>NaN</td>\n",
       "    </tr>\n",
       "    <tr>\n",
       "      <th>...</th>\n",
       "      <td>...</td>\n",
       "      <td>...</td>\n",
       "      <td>...</td>\n",
       "      <td>...</td>\n",
       "      <td>...</td>\n",
       "      <td>...</td>\n",
       "      <td>...</td>\n",
       "      <td>...</td>\n",
       "      <td>...</td>\n",
       "      <td>...</td>\n",
       "      <td>...</td>\n",
       "      <td>...</td>\n",
       "    </tr>\n",
       "    <tr>\n",
       "      <th>383</th>\n",
       "      <td>16</td>\n",
       "      <td>3,7</td>\n",
       "      <td>39</td>\n",
       "      <td>24,5</td>\n",
       "      <td>18</td>\n",
       "      <td>NaN</td>\n",
       "      <td>SP98</td>\n",
       "      <td>0</td>\n",
       "      <td>0</td>\n",
       "      <td>0</td>\n",
       "      <td>NaN</td>\n",
       "      <td>NaN</td>\n",
       "    </tr>\n",
       "    <tr>\n",
       "      <th>384</th>\n",
       "      <td>16,1</td>\n",
       "      <td>4,3</td>\n",
       "      <td>38</td>\n",
       "      <td>25</td>\n",
       "      <td>31</td>\n",
       "      <td>AC</td>\n",
       "      <td>SP98</td>\n",
       "      <td>1</td>\n",
       "      <td>0</td>\n",
       "      <td>0</td>\n",
       "      <td>NaN</td>\n",
       "      <td>NaN</td>\n",
       "    </tr>\n",
       "    <tr>\n",
       "      <th>385</th>\n",
       "      <td>16</td>\n",
       "      <td>3,8</td>\n",
       "      <td>45</td>\n",
       "      <td>25</td>\n",
       "      <td>19</td>\n",
       "      <td>NaN</td>\n",
       "      <td>SP98</td>\n",
       "      <td>0</td>\n",
       "      <td>0</td>\n",
       "      <td>0</td>\n",
       "      <td>NaN</td>\n",
       "      <td>NaN</td>\n",
       "    </tr>\n",
       "    <tr>\n",
       "      <th>386</th>\n",
       "      <td>15,4</td>\n",
       "      <td>4,6</td>\n",
       "      <td>42</td>\n",
       "      <td>25</td>\n",
       "      <td>31</td>\n",
       "      <td>AC</td>\n",
       "      <td>SP98</td>\n",
       "      <td>1</td>\n",
       "      <td>0</td>\n",
       "      <td>0</td>\n",
       "      <td>NaN</td>\n",
       "      <td>NaN</td>\n",
       "    </tr>\n",
       "    <tr>\n",
       "      <th>387</th>\n",
       "      <td>14,7</td>\n",
       "      <td>5</td>\n",
       "      <td>25</td>\n",
       "      <td>25</td>\n",
       "      <td>30</td>\n",
       "      <td>AC</td>\n",
       "      <td>SP98</td>\n",
       "      <td>1</td>\n",
       "      <td>0</td>\n",
       "      <td>0</td>\n",
       "      <td>NaN</td>\n",
       "      <td>NaN</td>\n",
       "    </tr>\n",
       "  </tbody>\n",
       "</table>\n",
       "<p>388 rows × 12 columns</p>\n",
       "</div>"
      ],
      "text/plain": [
       "    distance consume  speed temp_inside  temp_outside specials gas_type  AC  \\\n",
       "0         28       5     26        21,5            12      NaN      E10   0   \n",
       "1         12     4,2     30        21,5            13      NaN      E10   0   \n",
       "2       11,2     5,5     38        21,5            15      NaN      E10   0   \n",
       "3       12,9     3,9     36        21,5            14      NaN      E10   0   \n",
       "4       18,5     4,5     46        21,5            15      NaN      E10   0   \n",
       "..       ...     ...    ...         ...           ...      ...      ...  ..   \n",
       "383       16     3,7     39        24,5            18      NaN     SP98   0   \n",
       "384     16,1     4,3     38          25            31       AC     SP98   1   \n",
       "385       16     3,8     45          25            19      NaN     SP98   0   \n",
       "386     15,4     4,6     42          25            31       AC     SP98   1   \n",
       "387     14,7       5     25          25            30       AC     SP98   1   \n",
       "\n",
       "     rain  sun refill liters refill gas  \n",
       "0       0    0            45        E10  \n",
       "1       0    0           NaN        NaN  \n",
       "2       0    0           NaN        NaN  \n",
       "3       0    0           NaN        NaN  \n",
       "4       0    0           NaN        NaN  \n",
       "..    ...  ...           ...        ...  \n",
       "383     0    0           NaN        NaN  \n",
       "384     0    0           NaN        NaN  \n",
       "385     0    0           NaN        NaN  \n",
       "386     0    0           NaN        NaN  \n",
       "387     0    0           NaN        NaN  \n",
       "\n",
       "[388 rows x 12 columns]"
      ]
     },
     "execution_count": 3,
     "metadata": {},
     "output_type": "execute_result"
    }
   ],
   "source": [
    "df_data"
   ]
  },
  {
   "cell_type": "code",
   "execution_count": 4,
   "id": "abf8be11-4ae5-4596-9ec8-4d7630b5178a",
   "metadata": {
    "tags": []
   },
   "outputs": [
    {
     "name": "stdout",
     "output_type": "stream",
     "text": [
      "<class 'pandas.core.frame.DataFrame'>\n",
      "RangeIndex: 388 entries, 0 to 387\n",
      "Data columns (total 12 columns):\n",
      " #   Column         Non-Null Count  Dtype \n",
      "---  ------         --------------  ----- \n",
      " 0   distance       388 non-null    object\n",
      " 1   consume        388 non-null    object\n",
      " 2   speed          388 non-null    int64 \n",
      " 3   temp_inside    376 non-null    object\n",
      " 4   temp_outside   388 non-null    int64 \n",
      " 5   specials       93 non-null     object\n",
      " 6   gas_type       388 non-null    object\n",
      " 7   AC             388 non-null    int64 \n",
      " 8   rain           388 non-null    int64 \n",
      " 9   sun            388 non-null    int64 \n",
      " 10  refill liters  13 non-null     object\n",
      " 11  refill gas     13 non-null     object\n",
      "dtypes: int64(5), object(7)\n",
      "memory usage: 36.5+ KB\n"
     ]
    }
   ],
   "source": [
    "df_data.info()"
   ]
  },
  {
   "cell_type": "markdown",
   "id": "d0cde3a7-38a8-4226-b8e7-c1a9fd0285b3",
   "metadata": {},
   "source": [
    "# NO ENCONTRAMOS QUE TENEMOS 3 COLUMNAS CON DEMACIONADOS DATOS NULOS, MAS DEL 95%, POR LO QUE VAMOS A ELIMINAR ESTAS COLUMNAS  'refill liters','refill gas','specials'"
   ]
  },
  {
   "cell_type": "code",
   "execution_count": 5,
   "id": "f34eb4d5-8de4-40b8-8388-7b81d98a1840",
   "metadata": {},
   "outputs": [
    {
     "data": {
      "text/plain": [
       "Index(['distance', 'consume', 'speed', 'temp_inside', 'temp_outside',\n",
       "       'specials', 'gas_type', 'AC', 'rain', 'sun', 'refill liters',\n",
       "       'refill gas'],\n",
       "      dtype='object')"
      ]
     },
     "execution_count": 5,
     "metadata": {},
     "output_type": "execute_result"
    }
   ],
   "source": [
    "df_data.columns"
   ]
  },
  {
   "cell_type": "code",
   "execution_count": 7,
   "id": "38b4fcdb-a233-4e51-a0de-13290aad1b02",
   "metadata": {
    "tags": []
   },
   "outputs": [],
   "source": [
    "df_data.drop(columns=['refill liters','refill gas','specials'],inplace=True)"
   ]
  },
  {
   "cell_type": "markdown",
   "id": "6f9106e5-9fb1-461f-8ebd-0be0469dc2b8",
   "metadata": {},
   "source": [
    "# VAMOS A ELIMINAR LOS DATOS NULOS QUE QUEDAN EN LAS COLUMNAS"
   ]
  },
  {
   "cell_type": "code",
   "execution_count": 9,
   "id": "2b0ba8c1-1b7d-4a7a-89eb-e2a8f93908f8",
   "metadata": {},
   "outputs": [
    {
     "data": {
      "text/plain": [
       "distance         0\n",
       "consume          0\n",
       "speed            0\n",
       "temp_inside     12\n",
       "temp_outside     0\n",
       "gas_type         0\n",
       "AC               0\n",
       "rain             0\n",
       "sun              0\n",
       "dtype: int64"
      ]
     },
     "execution_count": 9,
     "metadata": {},
     "output_type": "execute_result"
    }
   ],
   "source": [
    "df_data.isnull().sum()"
   ]
  },
  {
   "cell_type": "code",
   "execution_count": 11,
   "id": "3b895dc7-b2ad-4116-bb56-b124c4846c1a",
   "metadata": {},
   "outputs": [],
   "source": [
    "df_data.dropna(inplace=True)"
   ]
  },
  {
   "cell_type": "code",
   "execution_count": 12,
   "id": "3d9b1892-421d-4ead-9176-1368fd8e0da4",
   "metadata": {
    "tags": []
   },
   "outputs": [
    {
     "data": {
      "text/plain": [
       "distance        0\n",
       "consume         0\n",
       "speed           0\n",
       "temp_inside     0\n",
       "temp_outside    0\n",
       "gas_type        0\n",
       "AC              0\n",
       "rain            0\n",
       "sun             0\n",
       "dtype: int64"
      ]
     },
     "execution_count": 12,
     "metadata": {},
     "output_type": "execute_result"
    }
   ],
   "source": [
    "df_data.isnull().sum()"
   ]
  },
  {
   "cell_type": "markdown",
   "id": "dbe78cf8-aa6e-40b1-969d-df4d96f36f15",
   "metadata": {},
   "source": [
    "# CONVERTIMOS LOS DATOS DE DISTANCIA Y CONSUMO A VALORES NUMERICOS"
   ]
  },
  {
   "cell_type": "code",
   "execution_count": 28,
   "id": "c11a95a5-fa9d-4ab2-a8c2-9e7e3198f442",
   "metadata": {
    "tags": []
   },
   "outputs": [],
   "source": [
    "df_data['distance']=df_data.distance.str.replace(',','.').astype(float)"
   ]
  },
  {
   "cell_type": "code",
   "execution_count": 29,
   "id": "8491b9ae-0a1d-4f58-b774-984451ac75fa",
   "metadata": {
    "tags": []
   },
   "outputs": [],
   "source": [
    "df_data['consume']=df_data.consume.str.replace(',','.').astype(float)"
   ]
  },
  {
   "cell_type": "code",
   "execution_count": 30,
   "id": "0922f075-b070-403e-a82d-3c54c4830ddb",
   "metadata": {},
   "outputs": [
    {
     "name": "stdout",
     "output_type": "stream",
     "text": [
      "<class 'pandas.core.frame.DataFrame'>\n",
      "Int64Index: 376 entries, 0 to 387\n",
      "Data columns (total 9 columns):\n",
      " #   Column        Non-Null Count  Dtype  \n",
      "---  ------        --------------  -----  \n",
      " 0   distance      376 non-null    float64\n",
      " 1   consume       376 non-null    float64\n",
      " 2   speed         376 non-null    int64  \n",
      " 3   temp_inside   376 non-null    object \n",
      " 4   temp_outside  376 non-null    int64  \n",
      " 5   gas_type      376 non-null    object \n",
      " 6   AC            376 non-null    int64  \n",
      " 7   rain          376 non-null    int64  \n",
      " 8   sun           376 non-null    int64  \n",
      "dtypes: float64(2), int64(5), object(2)\n",
      "memory usage: 29.4+ KB\n"
     ]
    }
   ],
   "source": [
    "df_data.info()"
   ]
  },
  {
   "cell_type": "code",
   "execution_count": 15,
   "id": "01855c70-8ab0-4ab6-9efc-1bb8ac4d1633",
   "metadata": {
    "tags": []
   },
   "outputs": [
    {
     "data": {
      "text/plain": [
       "SP98    219\n",
       "E10     157\n",
       "Name: gas_type, dtype: int64"
      ]
     },
     "execution_count": 15,
     "metadata": {},
     "output_type": "execute_result"
    }
   ],
   "source": [
    "df_data.gas_type.value_counts()"
   ]
  },
  {
   "cell_type": "markdown",
   "id": "11706c6d-0ebd-4149-94eb-d58d768119f2",
   "metadata": {},
   "source": [
    "# SEPARAMOS LOS DE GAS SP98 Y E10 Y E IMPRIMIMOS LOS DATOS"
   ]
  },
  {
   "cell_type": "code",
   "execution_count": 18,
   "id": "afe9c442-de00-4d57-9d09-5c9af46ec751",
   "metadata": {},
   "outputs": [
    {
     "data": {
      "text/plain": [
       "0      False\n",
       "1      False\n",
       "2      False\n",
       "3      False\n",
       "4      False\n",
       "       ...  \n",
       "383     True\n",
       "384     True\n",
       "385     True\n",
       "386     True\n",
       "387     True\n",
       "Name: gas_type, Length: 376, dtype: bool"
      ]
     },
     "execution_count": 18,
     "metadata": {},
     "output_type": "execute_result"
    }
   ],
   "source": [
    "df_data.gas_type=='SP98'"
   ]
  },
  {
   "cell_type": "code",
   "execution_count": 31,
   "id": "3b2dc20e-7efa-4761-9ad1-57019393ff0f",
   "metadata": {},
   "outputs": [],
   "source": [
    "df_data_sp98 = df_data[df_data.gas_type=='SP98']"
   ]
  },
  {
   "cell_type": "code",
   "execution_count": null,
   "id": "34a9d91c-4357-4c62-a74c-2c2e45195547",
   "metadata": {},
   "outputs": [],
   "source": []
  },
  {
   "cell_type": "code",
   "execution_count": 40,
   "id": "761efc44-7baf-480f-8c64-203365388133",
   "metadata": {},
   "outputs": [
    {
     "data": {
      "text/plain": [
       "<matplotlib.collections.PathCollection at 0x2643ecbda90>"
      ]
     },
     "execution_count": 40,
     "metadata": {},
     "output_type": "execute_result"
    },
    {
     "data": {
      "image/png": "[encoded data removed]",
      "text/plain": [
       "<Figure size 640x480 with 1 Axes>"
      ]
     },
     "metadata": {},
     "output_type": "display_data"
    }
   ],
   "source": [
    "plt.scatter(df_data_sp98.consume, df_data_sp98.distance)"
   ]
  },
  {
   "cell_type": "code",
   "execution_count": 34,
   "id": "22b2b6f2-c338-4c85-ad9d-76791414039d",
   "metadata": {},
   "outputs": [],
   "source": [
    "df_data_e10 = df_data[df_data.gas_type=='E10']"
   ]
  },
  {
   "cell_type": "code",
   "execution_count": 39,
   "id": "ef9d861a-1025-4346-a2b2-24081c0c4d48",
   "metadata": {},
   "outputs": [
    {
     "data": {
      "text/plain": [
       "<matplotlib.collections.PathCollection at 0x26443febc70>"
      ]
     },
     "execution_count": 39,
     "metadata": {},
     "output_type": "execute_result"
    },
    {
     "data": {
      "image/png": "[encoded data removed]",
      "text/plain": [
       "<Figure size 640x480 with 1 Axes>"
      ]
     },
     "metadata": {},
     "output_type": "display_data"
    }
   ],
   "source": [
    "plt.scatter(df_data_e10.consume, df_data_e10.distance)"
   ]
  },
  {
   "cell_type": "code",
   "execution_count": 36,
   "id": "655204eb-01e1-4476-9ad5-d775039e0b38",
   "metadata": {},
   "outputs": [
    {
     "data": {
      "text/plain": [
       "<AxesSubplot:>"
      ]
     },
     "execution_count": 36,
     "metadata": {},
     "output_type": "execute_result"
    },
    {
     "data": {
      "image/png": "[encoded data removed]",
      "text/plain": [
       "<Figure size 640x480 with 1 Axes>"
      ]
     },
     "metadata": {},
     "output_type": "display_data"
    }
   ],
   "source": [
    "df_data_sp98.distance.hist()"
   ]
  },
  {
   "cell_type": "code",
   "execution_count": 37,
   "id": "27b28988-dc6a-4cda-8f7f-b0141a47f43e",
   "metadata": {},
   "outputs": [
    {
     "data": {
      "text/plain": [
       "<AxesSubplot:>"
      ]
     },
     "execution_count": 37,
     "metadata": {},
     "output_type": "execute_result"
    },
    {
     "data": {
      "image/png": "[encoded data removed]",
      "text/plain": [
       "<Figure size 640x480 with 1 Axes>"
      ]
     },
     "metadata": {},
     "output_type": "display_data"
    }
   ],
   "source": [
    "df_data_sp98.consume.hist()"
   ]
  },
  {
   "cell_type": "code",
   "execution_count": 38,
   "id": "32553600-f391-4303-b82d-b267fbe41307",
   "metadata": {
    "tags": []
   },
   "outputs": [
    {
     "data": {
      "text/plain": [
       "<AxesSubplot:>"
      ]
     },
     "execution_count": 38,
     "metadata": {},
     "output_type": "execute_result"
    },
    {
     "data": {
      "image/png": "[encoded data removed]",
      "text/plain": [
       "<Figure size 640x480 with 1 Axes>"
      ]
     },
     "metadata": {},
     "output_type": "display_data"
    }
   ],
   "source": [
    "df_data_e10.consume.hist()"
   ]
  },
  {
   "cell_type": "markdown",
   "id": "01c07e28-062b-4010-ad78-a7f741874bac",
   "metadata": {},
   "source": [
    "# VAMOS A REALIZAR UNA COLUMNA NUEVA, DONDE VAMOS A DIVIDIR EL CONSUMO DE DAS ENTRE LA DISTANCIA RECORRIDA, ESTO PARA DEFINIR LA EFICIENCIA DEL AUTO"
   ]
  },
  {
   "cell_type": "code",
   "execution_count": 45,
   "id": "d3efcd09-9849-4d6e-97cd-5b733163ccd5",
   "metadata": {},
   "outputs": [
    {
     "name": "stderr",
     "output_type": "stream",
     "text": [
      "C:\\Users\\sistemas\\AppData\\Local\\Temp\\ipykernel_4524\\94650237.py:1: SettingWithCopyWarning: \n",
      "A value is trying to be set on a copy of a slice from a DataFrame.\n",
      "Try using .loc[row_indexer,col_indexer] = value instead\n",
      "\n",
      "See the caveats in the documentation: https://pandas.pydata.org/pandas-docs/stable/user_guide/indexing.html#returning-a-view-versus-a-copy\n",
      "  df_data_e10['L_km'] = df_data_e10.consume/df_data_e10.distance\n"
     ]
    }
   ],
   "source": [
    "df_data_e10['L_km'] = df_data_e10.consume/df_data_e10.distance"
   ]
  },
  {
   "cell_type": "code",
   "execution_count": 48,
   "id": "0e00f7dd-94b8-4fc7-8216-b0ef3b86dabf",
   "metadata": {
    "tags": []
   },
   "outputs": [
    {
     "data": {
      "text/plain": [
       "<AxesSubplot:>"
      ]
     },
     "execution_count": 48,
     "metadata": {},
     "output_type": "execute_result"
    },
    {
     "data": {
      "image/png": "[encoded data removed]",
      "text/plain": [
       "<Figure size 640x480 with 1 Axes>"
      ]
     },
     "metadata": {},
     "output_type": "display_data"
    }
   ],
   "source": [
    "df_data_e10.L_km.hist()"
   ]
  },
  {
   "cell_type": "markdown",
   "id": "eb799364-6020-4a06-b128-89a6c7750981",
   "metadata": {},
   "source": [
    "# VAMOS A ELIMINAR LOS VALORES ATIPICOS , EN ESTE CASO LOS VALORES MAYORES A 2, TANTO PARA E10 COMO PARA SP98"
   ]
  },
  {
   "cell_type": "code",
   "execution_count": 58,
   "id": "880d7cff-8644-46fc-9423-b3d339d05a07",
   "metadata": {
    "tags": []
   },
   "outputs": [],
   "source": [
    "df_data_e10_2 = df_data_e10[df_data_e10.L_km < 2]"
   ]
  },
  {
   "cell_type": "code",
   "execution_count": 60,
   "id": "96bbc745-65b6-4a1a-a51c-1f84713de00b",
   "metadata": {},
   "outputs": [
    {
     "data": {
      "text/plain": [
       "<AxesSubplot:>"
      ]
     },
     "execution_count": 60,
     "metadata": {},
     "output_type": "execute_result"
    },
    {
     "data": {
      "image/png": "[encoded data removed]",
      "text/plain": [
       "<Figure size 640x480 with 1 Axes>"
      ]
     },
     "metadata": {},
     "output_type": "display_data"
    }
   ],
   "source": [
    "df_data_e10_2.L_km.hist()"
   ]
  },
  {
   "cell_type": "code",
   "execution_count": 49,
   "id": "fea9882a-3031-4fc2-a1a8-976fa9b5365a",
   "metadata": {},
   "outputs": [
    {
     "name": "stderr",
     "output_type": "stream",
     "text": [
      "C:\\Users\\sistemas\\AppData\\Local\\Temp\\ipykernel_4524\\1279674521.py:1: SettingWithCopyWarning: \n",
      "A value is trying to be set on a copy of a slice from a DataFrame.\n",
      "Try using .loc[row_indexer,col_indexer] = value instead\n",
      "\n",
      "See the caveats in the documentation: https://pandas.pydata.org/pandas-docs/stable/user_guide/indexing.html#returning-a-view-versus-a-copy\n",
      "  df_data_sp98['L_km'] = df_data_sp98.consume/df_data_sp98.distance\n"
     ]
    }
   ],
   "source": [
    "df_data_sp98['L_km'] = df_data_sp98.consume/df_data_sp98.distance"
   ]
  },
  {
   "cell_type": "code",
   "execution_count": 50,
   "id": "249e0a95-689e-44c5-a0a9-da88129ef5f2",
   "metadata": {},
   "outputs": [
    {
     "data": {
      "text/plain": [
       "<AxesSubplot:>"
      ]
     },
     "execution_count": 50,
     "metadata": {},
     "output_type": "execute_result"
    },
    {
     "data": {
      "image/png": "[encoded data removed]",
      "text/plain": [
       "<Figure size 640x480 with 1 Axes>"
      ]
     },
     "metadata": {},
     "output_type": "display_data"
    }
   ],
   "source": [
    "df_data_sp98.L_km.hist()"
   ]
  },
  {
   "cell_type": "code",
   "execution_count": 61,
   "id": "5dd4e51e-8971-4e37-adde-7f2939a8f052",
   "metadata": {},
   "outputs": [],
   "source": [
    "df_data_sp98_2 = df_data_sp98[df_data_sp98.L_km < 2]"
   ]
  },
  {
   "cell_type": "code",
   "execution_count": 62,
   "id": "eefbd482-951b-4098-b37b-25c75ca7bfb7",
   "metadata": {},
   "outputs": [
    {
     "data": {
      "text/plain": [
       "<AxesSubplot:>"
      ]
     },
     "execution_count": 62,
     "metadata": {},
     "output_type": "execute_result"
    },
    {
     "data": {
      "image/png": "[encoded data removed]",
      "text/plain": [
       "<Figure size 640x480 with 1 Axes>"
      ]
     },
     "metadata": {},
     "output_type": "display_data"
    }
   ],
   "source": [
    "df_data_e10_2.L_km.hist()"
   ]
  },
  {
   "cell_type": "code",
   "execution_count": null,
   "id": "b83c3ddb-6d50-4af4-82be-74c2df298771",
   "metadata": {
    "tags": []
   },
   "outputs": [],
   "source": []
  },
  {
   "cell_type": "markdown",
   "id": "7818203a-c323-418e-836a-c147d230c689",
   "metadata": {},
   "source": [
    "# VAMOS A DEFINIR NUESTRA PRUEBA DE HIPOTESIS  Y REVISAR SI SON DEPENDIENTES AMBAS GRUPOS, DE E10 Y SP98"
   ]
  },
  {
   "cell_type": "code",
   "execution_count": 64,
   "id": "22d5d10c-177c-41fd-ad5c-abf8a162bfb1",
   "metadata": {},
   "outputs": [],
   "source": [
    "import numpy as np \n",
    "import pylab \n",
    "import scipy.stats as stats"
   ]
  },
  {
   "cell_type": "code",
   "execution_count": 72,
   "id": "c57f5173-2928-43b4-a92f-f331bc65f3fa",
   "metadata": {
    "tags": []
   },
   "outputs": [
    {
     "data": {
      "text/plain": [
       "KendalltauResult(correlation=0.06005191014138457, pvalue=0.2700033124378367)"
      ]
     },
     "execution_count": 72,
     "metadata": {},
     "output_type": "execute_result"
    }
   ],
   "source": [
    "stats.kendalltau(df_data_e10_2.L_km, df_data_sp98_2_eje.L_km)"
   ]
  },
  {
   "cell_type": "code",
   "execution_count": 96,
   "id": "90316170-c345-4198-80e1-ef694e86197d",
   "metadata": {
    "tags": []
   },
   "outputs": [
    {
     "data": {
      "text/plain": [
       "SpearmanrResult(correlation=0.0844485775157058, pvalue=0.29773521670111514)"
      ]
     },
     "execution_count": 96,
     "metadata": {},
     "output_type": "execute_result"
    }
   ],
   "source": [
    "stats.spearmanr(df_data_e10_2.L_km, df_data_sp98_2_eje.L_km)"
   ]
  },
  {
   "cell_type": "code",
   "execution_count": 97,
   "id": "c7321885-d9d6-4ab9-8e91-c0fabf169e7a",
   "metadata": {},
   "outputs": [
    {
     "data": {
      "text/plain": [
       "PearsonRResult(statistic=0.021834607428596997, pvalue=0.788095299048337)"
      ]
     },
     "execution_count": 97,
     "metadata": {},
     "output_type": "execute_result"
    }
   ],
   "source": [
    "stats.pearsonr(df_data_e10_2.L_km, df_data_sp98_2_eje.L_km)"
   ]
  },
  {
   "cell_type": "markdown",
   "id": "5f8992d9-edf0-44de-a08d-8edc0609fe99",
   "metadata": {},
   "source": [
    "# NO podemos rechazar la hipotesis nula de que no hay relacion y concluir que NO hay dependencia (tienden a ser similares)"
   ]
  },
  {
   "cell_type": "code",
   "execution_count": 66,
   "id": "5fc83d5a-99d9-45b4-8e52-50c66410a882",
   "metadata": {},
   "outputs": [
    {
     "data": {
      "text/plain": [
       "(154, 11)"
      ]
     },
     "execution_count": 66,
     "metadata": {},
     "output_type": "execute_result"
    }
   ],
   "source": [
    "df_data_e10_2.shape"
   ]
  },
  {
   "cell_type": "code",
   "execution_count": 67,
   "id": "a921648d-2077-40f0-8dd0-6e76e16bac65",
   "metadata": {},
   "outputs": [
    {
     "data": {
      "text/plain": [
       "(212, 10)"
      ]
     },
     "execution_count": 67,
     "metadata": {},
     "output_type": "execute_result"
    }
   ],
   "source": [
    "df_data_sp98_2.shape"
   ]
  },
  {
   "cell_type": "code",
   "execution_count": 71,
   "id": "1677572c-0da4-4a41-9599-cdb451e24d61",
   "metadata": {
    "tags": []
   },
   "outputs": [],
   "source": [
    "df_data_sp98_2_eje = df_data_sp98_2[:154]"
   ]
  },
  {
   "cell_type": "raw",
   "id": "44589ea1-de14-4d0f-bc2c-7f628e98d33a",
   "metadata": {},
   "source": [
    "# test en base a las medias"
   ]
  },
  {
   "cell_type": "code",
   "execution_count": 73,
   "id": "9478a0b5-2292-47f2-94e5-981a3216ed03",
   "metadata": {
    "tags": []
   },
   "outputs": [
    {
     "data": {
      "text/plain": [
       "Ttest_relResult(statistic=-1.2735132660849164, pvalue=0.20476733452624335)"
      ]
     },
     "execution_count": 73,
     "metadata": {},
     "output_type": "execute_result"
    }
   ],
   "source": [
    "stats.ttest_rel(df_data_e10_2.L_km, df_data_sp98_2_eje.L_km)"
   ]
  },
  {
   "cell_type": "markdown",
   "id": "f0d86e97-343c-48df-9666-c3ff0cb8df42",
   "metadata": {
    "tags": []
   },
   "source": [
    "# No podemos rechazar la hipotesis nula y podemos concluir que las medias el consumo de gasolia/distancia (L/Km) (es decir que son iguales)"
   ]
  },
  {
   "cell_type": "code",
   "execution_count": 98,
   "id": "586d7493-4194-4464-9810-d08f3cb9c868",
   "metadata": {},
   "outputs": [
    {
     "data": {
      "text/plain": [
       "Ttest_indResult(statistic=-1.2595332331841702, pvalue=0.20879763949645938)"
      ]
     },
     "execution_count": 98,
     "metadata": {},
     "output_type": "execute_result"
    }
   ],
   "source": [
    "stats.ttest_ind(df_data_e10_2.L_km, df_data_sp98_2_eje.L_km)"
   ]
  },
  {
   "cell_type": "code",
   "execution_count": null,
   "id": "39ea95a7-dcf0-4e71-8e17-bc5e236bccb4",
   "metadata": {},
   "outputs": [],
   "source": []
  },
  {
   "cell_type": "code",
   "execution_count": null,
   "id": "f7595da6-649b-4e66-a6eb-af18adace417",
   "metadata": {},
   "outputs": [],
   "source": []
  },
  {
   "cell_type": "code",
   "execution_count": null,
   "id": "c40cdb6a-cb76-49fc-b934-c5b5c9e55ef3",
   "metadata": {},
   "outputs": [],
   "source": []
  },
  {
   "cell_type": "code",
   "execution_count": 92,
   "id": "27de04ef-f640-4da0-b7f4-ea7e7cf1d232",
   "metadata": {},
   "outputs": [
    {
     "name": "stderr",
     "output_type": "stream",
     "text": [
      "C:\\Users\\sistemas\\AppData\\Local\\Temp\\ipykernel_4524\\1286088918.py:1: SettingWithCopyWarning: \n",
      "A value is trying to be set on a copy of a slice from a DataFrame.\n",
      "Try using .loc[row_indexer,col_indexer] = value instead\n",
      "\n",
      "See the caveats in the documentation: https://pandas.pydata.org/pandas-docs/stable/user_guide/indexing.html#returning-a-view-versus-a-copy\n",
      "  df_data_sp98_2_eje['e10'] = df_data_e10_2.L_km\n"
     ]
    }
   ],
   "source": [
    "df_data_sp98_2_eje['e10'] = df_data_e10_2.L_km"
   ]
  },
  {
   "cell_type": "code",
   "execution_count": 95,
   "id": "7094198a-801b-4259-b150-7bf0de7135af",
   "metadata": {},
   "outputs": [
    {
     "name": "stderr",
     "output_type": "stream",
     "text": [
      "C:\\Users\\sistemas\\anaconda3\\lib\\site-packages\\seaborn\\distributions.py:2619: FutureWarning: `distplot` is a deprecated function and will be removed in a future version. Please adapt your code to use either `displot` (a figure-level function with similar flexibility) or `histplot` (an axes-level function for histograms).\n",
      "  warnings.warn(msg, FutureWarning)\n",
      "C:\\Users\\sistemas\\anaconda3\\lib\\site-packages\\seaborn\\distributions.py:2619: FutureWarning: `distplot` is a deprecated function and will be removed in a future version. Please adapt your code to use either `displot` (a figure-level function with similar flexibility) or `histplot` (an axes-level function for histograms).\n",
      "  warnings.warn(msg, FutureWarning)\n"
     ]
    },
    {
     "data": {
      "text/plain": [
       "<matplotlib.legend.Legend at 0x264473623a0>"
      ]
     },
     "execution_count": 95,
     "metadata": {},
     "output_type": "execute_result"
    },
    {
     "data": {
      "image/png": "[encoded data removed]",
      "text/plain": [
       "<Figure size 640x480 with 1 Axes>"
      ]
     },
     "metadata": {},
     "output_type": "display_data"
    }
   ],
   "source": [
    "sns.distplot(df_data_sp98_2_eje.e10, label = 'e10')\n",
    "sns.distplot(df_data_sp98_2_eje.L_km, label = 'SP98')\n",
    "plt.legend()"
   ]
  },
  {
   "cell_type": "code",
   "execution_count": 77,
   "id": "ff3eba88-5ffb-4d11-8440-0231cebfc6f8",
   "metadata": {},
   "outputs": [],
   "source": [
    "import matplotlib.pyplot as plt\n",
    "import seaborn as sns"
   ]
  },
  {
   "cell_type": "code",
   "execution_count": 86,
   "id": "71d32513-1aa7-4298-88c4-c963055b3949",
   "metadata": {},
   "outputs": [
    {
     "data": {
      "text/html": [
       "<div>\n",
       "<style scoped>\n",
       "    .dataframe tbody tr th:only-of-type {\n",
       "        vertical-align: middle;\n",
       "    }\n",
       "\n",
       "    .dataframe tbody tr th {\n",
       "        vertical-align: top;\n",
       "    }\n",
       "\n",
       "    .dataframe thead th {\n",
       "        text-align: right;\n",
       "    }\n",
       "</style>\n",
       "<table border=\"1\" class=\"dataframe\">\n",
       "  <thead>\n",
       "    <tr style=\"text-align: right;\">\n",
       "      <th></th>\n",
       "      <th>distance</th>\n",
       "      <th>consume</th>\n",
       "      <th>speed</th>\n",
       "      <th>temp_inside</th>\n",
       "      <th>temp_outside</th>\n",
       "      <th>gas_type</th>\n",
       "      <th>AC</th>\n",
       "      <th>rain</th>\n",
       "      <th>sun</th>\n",
       "      <th>L_km</th>\n",
       "      <th>e10</th>\n",
       "    </tr>\n",
       "  </thead>\n",
       "  <tbody>\n",
       "    <tr>\n",
       "      <th>44</th>\n",
       "      <td>5.4</td>\n",
       "      <td>3.3</td>\n",
       "      <td>32</td>\n",
       "      <td>21,5</td>\n",
       "      <td>7</td>\n",
       "      <td>SP98</td>\n",
       "      <td>0</td>\n",
       "      <td>0</td>\n",
       "      <td>0</td>\n",
       "      <td>0.611111</td>\n",
       "      <td>NaN</td>\n",
       "    </tr>\n",
       "    <tr>\n",
       "      <th>46</th>\n",
       "      <td>14.2</td>\n",
       "      <td>5.1</td>\n",
       "      <td>32</td>\n",
       "      <td>21,5</td>\n",
       "      <td>7</td>\n",
       "      <td>SP98</td>\n",
       "      <td>0</td>\n",
       "      <td>0</td>\n",
       "      <td>0</td>\n",
       "      <td>0.359155</td>\n",
       "      <td>NaN</td>\n",
       "    </tr>\n",
       "    <tr>\n",
       "      <th>47</th>\n",
       "      <td>16.0</td>\n",
       "      <td>4.9</td>\n",
       "      <td>25</td>\n",
       "      <td>21,5</td>\n",
       "      <td>8</td>\n",
       "      <td>SP98</td>\n",
       "      <td>0</td>\n",
       "      <td>0</td>\n",
       "      <td>0</td>\n",
       "      <td>0.306250</td>\n",
       "      <td>NaN</td>\n",
       "    </tr>\n",
       "    <tr>\n",
       "      <th>48</th>\n",
       "      <td>11.8</td>\n",
       "      <td>4.9</td>\n",
       "      <td>25</td>\n",
       "      <td>21,5</td>\n",
       "      <td>11</td>\n",
       "      <td>SP98</td>\n",
       "      <td>0</td>\n",
       "      <td>0</td>\n",
       "      <td>0</td>\n",
       "      <td>0.415254</td>\n",
       "      <td>NaN</td>\n",
       "    </tr>\n",
       "    <tr>\n",
       "      <th>49</th>\n",
       "      <td>27.3</td>\n",
       "      <td>4.7</td>\n",
       "      <td>36</td>\n",
       "      <td>21,5</td>\n",
       "      <td>10</td>\n",
       "      <td>SP98</td>\n",
       "      <td>0</td>\n",
       "      <td>0</td>\n",
       "      <td>0</td>\n",
       "      <td>0.172161</td>\n",
       "      <td>NaN</td>\n",
       "    </tr>\n",
       "    <tr>\n",
       "      <th>...</th>\n",
       "      <td>...</td>\n",
       "      <td>...</td>\n",
       "      <td>...</td>\n",
       "      <td>...</td>\n",
       "      <td>...</td>\n",
       "      <td>...</td>\n",
       "      <td>...</td>\n",
       "      <td>...</td>\n",
       "      <td>...</td>\n",
       "      <td>...</td>\n",
       "      <td>...</td>\n",
       "    </tr>\n",
       "    <tr>\n",
       "      <th>301</th>\n",
       "      <td>19.0</td>\n",
       "      <td>5.0</td>\n",
       "      <td>35</td>\n",
       "      <td>22</td>\n",
       "      <td>15</td>\n",
       "      <td>SP98</td>\n",
       "      <td>1</td>\n",
       "      <td>0</td>\n",
       "      <td>1</td>\n",
       "      <td>0.263158</td>\n",
       "      <td>NaN</td>\n",
       "    </tr>\n",
       "    <tr>\n",
       "      <th>302</th>\n",
       "      <td>16.6</td>\n",
       "      <td>4.4</td>\n",
       "      <td>46</td>\n",
       "      <td>22</td>\n",
       "      <td>5</td>\n",
       "      <td>SP98</td>\n",
       "      <td>1</td>\n",
       "      <td>0</td>\n",
       "      <td>0</td>\n",
       "      <td>0.265060</td>\n",
       "      <td>NaN</td>\n",
       "    </tr>\n",
       "    <tr>\n",
       "      <th>303</th>\n",
       "      <td>29.9</td>\n",
       "      <td>4.5</td>\n",
       "      <td>32</td>\n",
       "      <td>22</td>\n",
       "      <td>18</td>\n",
       "      <td>SP98</td>\n",
       "      <td>1</td>\n",
       "      <td>0</td>\n",
       "      <td>0</td>\n",
       "      <td>0.150502</td>\n",
       "      <td>NaN</td>\n",
       "    </tr>\n",
       "    <tr>\n",
       "      <th>304</th>\n",
       "      <td>16.0</td>\n",
       "      <td>3.8</td>\n",
       "      <td>42</td>\n",
       "      <td>22</td>\n",
       "      <td>11</td>\n",
       "      <td>SP98</td>\n",
       "      <td>0</td>\n",
       "      <td>0</td>\n",
       "      <td>0</td>\n",
       "      <td>0.237500</td>\n",
       "      <td>NaN</td>\n",
       "    </tr>\n",
       "    <tr>\n",
       "      <th>305</th>\n",
       "      <td>21.1</td>\n",
       "      <td>5.1</td>\n",
       "      <td>33</td>\n",
       "      <td>22</td>\n",
       "      <td>10</td>\n",
       "      <td>SP98</td>\n",
       "      <td>0</td>\n",
       "      <td>1</td>\n",
       "      <td>0</td>\n",
       "      <td>0.241706</td>\n",
       "      <td>NaN</td>\n",
       "    </tr>\n",
       "  </tbody>\n",
       "</table>\n",
       "<p>154 rows × 11 columns</p>\n",
       "</div>"
      ],
      "text/plain": [
       "     distance  consume  speed temp_inside  temp_outside gas_type  AC  rain  \\\n",
       "44        5.4      3.3     32        21,5             7     SP98   0     0   \n",
       "46       14.2      5.1     32        21,5             7     SP98   0     0   \n",
       "47       16.0      4.9     25        21,5             8     SP98   0     0   \n",
       "48       11.8      4.9     25        21,5            11     SP98   0     0   \n",
       "49       27.3      4.7     36        21,5            10     SP98   0     0   \n",
       "..        ...      ...    ...         ...           ...      ...  ..   ...   \n",
       "301      19.0      5.0     35          22            15     SP98   1     0   \n",
       "302      16.6      4.4     46          22             5     SP98   1     0   \n",
       "303      29.9      4.5     32          22            18     SP98   1     0   \n",
       "304      16.0      3.8     42          22            11     SP98   0     0   \n",
       "305      21.1      5.1     33          22            10     SP98   0     1   \n",
       "\n",
       "     sun      L_km  e10  \n",
       "44     0  0.611111  NaN  \n",
       "46     0  0.359155  NaN  \n",
       "47     0  0.306250  NaN  \n",
       "48     0  0.415254  NaN  \n",
       "49     0  0.172161  NaN  \n",
       "..   ...       ...  ...  \n",
       "301    1  0.263158  NaN  \n",
       "302    0  0.265060  NaN  \n",
       "303    0  0.150502  NaN  \n",
       "304    0  0.237500  NaN  \n",
       "305    0  0.241706  NaN  \n",
       "\n",
       "[154 rows x 11 columns]"
      ]
     },
     "execution_count": 86,
     "metadata": {},
     "output_type": "execute_result"
    }
   ],
   "source": [
    "df_data_sp98_2_eje"
   ]
  },
  {
   "cell_type": "code",
   "execution_count": 84,
   "id": "f7f6b456-bff9-42f3-9fb9-cf99da28edf1",
   "metadata": {},
   "outputs": [
    {
     "data": {
      "text/plain": [
       "0      0.178571\n",
       "1      0.350000\n",
       "2      0.491071\n",
       "3      0.302326\n",
       "4      0.243243\n",
       "         ...   \n",
       "344    0.316770\n",
       "345    0.250000\n",
       "346    0.311688\n",
       "347    0.226744\n",
       "348    0.277108\n",
       "Name: L_km, Length: 154, dtype: float64"
      ]
     },
     "execution_count": 84,
     "metadata": {},
     "output_type": "execute_result"
    }
   ],
   "source": [
    "df_data_e10_2.L_km"
   ]
  },
  {
   "cell_type": "code",
   "execution_count": 90,
   "id": "d7c0147d-222d-4a68-a204-a0e25cd766ab",
   "metadata": {},
   "outputs": [],
   "source": [
    "df_data_sp98_2_eje.reset_index(inplace=True)"
   ]
  },
  {
   "cell_type": "code",
   "execution_count": 91,
   "id": "bbef8506-6246-431b-aeec-0cdc95bfce2e",
   "metadata": {},
   "outputs": [],
   "source": [
    "df_data_e10_2.reset_index(inplace=True)"
   ]
  },
  {
   "cell_type": "code",
   "execution_count": 100,
   "id": "a1dbaad5-5771-4de6-981d-9d25e5440c65",
   "metadata": {},
   "outputs": [
    {
     "data": {
      "text/html": [
       "<div>\n",
       "<style scoped>\n",
       "    .dataframe tbody tr th:only-of-type {\n",
       "        vertical-align: middle;\n",
       "    }\n",
       "\n",
       "    .dataframe tbody tr th {\n",
       "        vertical-align: top;\n",
       "    }\n",
       "\n",
       "    .dataframe thead th {\n",
       "        text-align: right;\n",
       "    }\n",
       "</style>\n",
       "<table border=\"1\" class=\"dataframe\">\n",
       "  <thead>\n",
       "    <tr style=\"text-align: right;\">\n",
       "      <th></th>\n",
       "      <th>distance</th>\n",
       "      <th>consume</th>\n",
       "      <th>speed</th>\n",
       "      <th>temp_inside</th>\n",
       "      <th>temp_outside</th>\n",
       "      <th>gas_type</th>\n",
       "      <th>AC</th>\n",
       "      <th>rain</th>\n",
       "      <th>sun</th>\n",
       "      <th>L/km</th>\n",
       "      <th>L_km</th>\n",
       "    </tr>\n",
       "  </thead>\n",
       "  <tbody>\n",
       "    <tr>\n",
       "      <th>147</th>\n",
       "      <td>1.7</td>\n",
       "      <td>10.8</td>\n",
       "      <td>14</td>\n",
       "      <td>21,5</td>\n",
       "      <td>10</td>\n",
       "      <td>E10</td>\n",
       "      <td>0</td>\n",
       "      <td>1</td>\n",
       "      <td>0</td>\n",
       "      <td>6.352941</td>\n",
       "      <td>6.352941</td>\n",
       "    </tr>\n",
       "    <tr>\n",
       "      <th>254</th>\n",
       "      <td>2.0</td>\n",
       "      <td>8.1</td>\n",
       "      <td>20</td>\n",
       "      <td>22,5</td>\n",
       "      <td>14</td>\n",
       "      <td>E10</td>\n",
       "      <td>0</td>\n",
       "      <td>0</td>\n",
       "      <td>0</td>\n",
       "      <td>4.050000</td>\n",
       "      <td>4.050000</td>\n",
       "    </tr>\n",
       "    <tr>\n",
       "      <th>258</th>\n",
       "      <td>2.0</td>\n",
       "      <td>6.0</td>\n",
       "      <td>22</td>\n",
       "      <td>22,5</td>\n",
       "      <td>14</td>\n",
       "      <td>E10</td>\n",
       "      <td>0</td>\n",
       "      <td>0</td>\n",
       "      <td>0</td>\n",
       "      <td>3.000000</td>\n",
       "      <td>3.000000</td>\n",
       "    </tr>\n",
       "  </tbody>\n",
       "</table>\n",
       "</div>"
      ],
      "text/plain": [
       "     distance  consume  speed temp_inside  temp_outside gas_type  AC  rain  \\\n",
       "147       1.7     10.8     14        21,5            10      E10   0     1   \n",
       "254       2.0      8.1     20        22,5            14      E10   0     0   \n",
       "258       2.0      6.0     22        22,5            14      E10   0     0   \n",
       "\n",
       "     sun      L/km      L_km  \n",
       "147    0  6.352941  6.352941  \n",
       "254    0  4.050000  4.050000  \n",
       "258    0  3.000000  3.000000  "
      ]
     },
     "execution_count": 100,
     "metadata": {},
     "output_type": "execute_result"
    }
   ],
   "source": [
    "df_data_e10[df_data_e10.L_km > 2]"
   ]
  },
  {
   "cell_type": "code",
   "execution_count": 102,
   "id": "edbaee83-8806-49dc-8ae8-7d7b3409a04b",
   "metadata": {},
   "outputs": [
    {
     "data": {
      "text/html": [
       "<div>\n",
       "<style scoped>\n",
       "    .dataframe tbody tr th:only-of-type {\n",
       "        vertical-align: middle;\n",
       "    }\n",
       "\n",
       "    .dataframe tbody tr th {\n",
       "        vertical-align: top;\n",
       "    }\n",
       "\n",
       "    .dataframe thead th {\n",
       "        text-align: right;\n",
       "    }\n",
       "</style>\n",
       "<table border=\"1\" class=\"dataframe\">\n",
       "  <thead>\n",
       "    <tr style=\"text-align: right;\">\n",
       "      <th></th>\n",
       "      <th>distance</th>\n",
       "      <th>consume</th>\n",
       "      <th>speed</th>\n",
       "      <th>temp_inside</th>\n",
       "      <th>temp_outside</th>\n",
       "      <th>gas_type</th>\n",
       "      <th>AC</th>\n",
       "      <th>rain</th>\n",
       "      <th>sun</th>\n",
       "      <th>L_km</th>\n",
       "    </tr>\n",
       "  </thead>\n",
       "  <tbody>\n",
       "    <tr>\n",
       "      <th>45</th>\n",
       "      <td>2.0</td>\n",
       "      <td>9.9</td>\n",
       "      <td>21</td>\n",
       "      <td>21,5</td>\n",
       "      <td>4</td>\n",
       "      <td>SP98</td>\n",
       "      <td>0</td>\n",
       "      <td>0</td>\n",
       "      <td>0</td>\n",
       "      <td>4.950000</td>\n",
       "    </tr>\n",
       "    <tr>\n",
       "      <th>60</th>\n",
       "      <td>2.9</td>\n",
       "      <td>7.9</td>\n",
       "      <td>18</td>\n",
       "      <td>21,5</td>\n",
       "      <td>9</td>\n",
       "      <td>SP98</td>\n",
       "      <td>1</td>\n",
       "      <td>1</td>\n",
       "      <td>0</td>\n",
       "      <td>2.724138</td>\n",
       "    </tr>\n",
       "    <tr>\n",
       "      <th>61</th>\n",
       "      <td>2.1</td>\n",
       "      <td>12.2</td>\n",
       "      <td>23</td>\n",
       "      <td>21,5</td>\n",
       "      <td>9</td>\n",
       "      <td>SP98</td>\n",
       "      <td>1</td>\n",
       "      <td>1</td>\n",
       "      <td>0</td>\n",
       "      <td>5.809524</td>\n",
       "    </tr>\n",
       "    <tr>\n",
       "      <th>71</th>\n",
       "      <td>2.0</td>\n",
       "      <td>6.2</td>\n",
       "      <td>20</td>\n",
       "      <td>21,5</td>\n",
       "      <td>10</td>\n",
       "      <td>SP98</td>\n",
       "      <td>0</td>\n",
       "      <td>0</td>\n",
       "      <td>0</td>\n",
       "      <td>3.100000</td>\n",
       "    </tr>\n",
       "    <tr>\n",
       "      <th>198</th>\n",
       "      <td>2.9</td>\n",
       "      <td>7.4</td>\n",
       "      <td>24</td>\n",
       "      <td>21,5</td>\n",
       "      <td>14</td>\n",
       "      <td>SP98</td>\n",
       "      <td>0</td>\n",
       "      <td>0</td>\n",
       "      <td>0</td>\n",
       "      <td>2.551724</td>\n",
       "    </tr>\n",
       "    <tr>\n",
       "      <th>206</th>\n",
       "      <td>2.4</td>\n",
       "      <td>9.0</td>\n",
       "      <td>26</td>\n",
       "      <td>20</td>\n",
       "      <td>10</td>\n",
       "      <td>SP98</td>\n",
       "      <td>0</td>\n",
       "      <td>0</td>\n",
       "      <td>0</td>\n",
       "      <td>3.750000</td>\n",
       "    </tr>\n",
       "    <tr>\n",
       "      <th>210</th>\n",
       "      <td>1.3</td>\n",
       "      <td>11.5</td>\n",
       "      <td>21</td>\n",
       "      <td>20</td>\n",
       "      <td>10</td>\n",
       "      <td>SP98</td>\n",
       "      <td>0</td>\n",
       "      <td>0</td>\n",
       "      <td>0</td>\n",
       "      <td>8.846154</td>\n",
       "    </tr>\n",
       "  </tbody>\n",
       "</table>\n",
       "</div>"
      ],
      "text/plain": [
       "     distance  consume  speed temp_inside  temp_outside gas_type  AC  rain  \\\n",
       "45        2.0      9.9     21        21,5             4     SP98   0     0   \n",
       "60        2.9      7.9     18        21,5             9     SP98   1     1   \n",
       "61        2.1     12.2     23        21,5             9     SP98   1     1   \n",
       "71        2.0      6.2     20        21,5            10     SP98   0     0   \n",
       "198       2.9      7.4     24        21,5            14     SP98   0     0   \n",
       "206       2.4      9.0     26          20            10     SP98   0     0   \n",
       "210       1.3     11.5     21          20            10     SP98   0     0   \n",
       "\n",
       "     sun      L_km  \n",
       "45     0  4.950000  \n",
       "60     0  2.724138  \n",
       "61     0  5.809524  \n",
       "71     0  3.100000  \n",
       "198    0  2.551724  \n",
       "206    0  3.750000  \n",
       "210    0  8.846154  "
      ]
     },
     "execution_count": 102,
     "metadata": {},
     "output_type": "execute_result"
    }
   ],
   "source": [
    "df_data_sp98[df_data_sp98.L_km > 2]"
   ]
  },
  {
   "cell_type": "markdown",
   "id": "a2d91584-7f28-4545-81dc-666e7e71ada9",
   "metadata": {},
   "source": [
    "podemos definir que los altos consumos de gas \n",
    "y bajas distancias, es por que se tenia una tempetura exterior muy baja, e interior normal, \n",
    "lo que podemos pensar que tenian encendido la calefaccion y se estaba detenido el auto"
   ]
  }
 ],
 "metadata": {
  "kernelspec": {
   "display_name": "Python 3 (ipykernel)",
   "language": "python",
   "name": "python3"
  },
  "language_info": {
   "codemirror_mode": {
    "name": "ipython",
    "version": 3
   },
   "file_extension": ".py",
   "mimetype": "text/x-python",
   "name": "python",
   "nbconvert_exporter": "python",
   "pygments_lexer": "ipython3",
   "version": "3.9.13"
  }
 },
 "nbformat": 4,
 "nbformat_minor": 5
}
